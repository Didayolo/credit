{
 "cells": [
  {
   "cell_type": "markdown",
   "metadata": {},
   "source": [
    "<img src=\"credit.jpg\", width=150, ALIGN=\"left\", border=20>\n",
    "<center>\n",
    "<h1>Give me some credit Starting Kit</h1>\n",
    "<br>This code was tested with <br>\n",
    "Python 2.7.13 | Anaconda 4.3.1 (https://anaconda.org/)<br>\n",
    "<i> Adapted for Chalab by CREDIT TEAM from original code of Balázs Kégl</i> <br>\n",
    "<a href=\"http://www.datascience-paris-saclay.fr\">Paris Saclay Center for Data Science (CDS)</a>\n",
    "</center>\n",
    "<p><br>\n",
    "\n",
    "ALL INFORMATION, SOFTWARE, DOCUMENTATION, AND DATA ARE PROVIDED \"AS-IS\". The CDS, CHALEARN, AND/OR OTHER ORGANIZERS OR CODE AUTHORS DISCLAIM ANY EXPRESSED OR IMPLIED WARRANTIES, INCLUDING, BUT NOT LIMITED TO, THE IMPLIED WARRANTIES OF MERCHANTABILITY AND FITNESS FOR ANY PARTICULAR PURPOSE, AND THE WARRANTY OF NON-INFRIGEMENT OF ANY THIRD PARTY'S INTELLECTUAL PROPERTY RIGHTS. IN NO EVENT SHALL AUTHORS AND ORGANIZERS BE LIABLE FOR ANY SPECIAL, \n",
    "INDIRECT OR CONSEQUENTIAL DAMAGES OR ANY DAMAGES WHATSOEVER ARISING OUT OF OR IN CONNECTION WITH THE USE OR PERFORMANCE OF SOFTWARE, DOCUMENTS, MATERIALS, PUBLICATIONS, OR INFORMATION MADE AVAILABLE FOR THE CHALLENGE. "
   ]
  },
  {
   "cell_type": "markdown",
   "metadata": {},
   "source": [
    "# Introduction\n",
    "\n",
    "Give Me Some Credit is a challenge based on the kaggle challenge <a href=\"https://www.kaggle.com/c/GiveMeSomeCredit\">Kaggle-Give-Credit</a>, the dataset is formatted in the AutoML format."
   ]
  },
  {
   "cell_type": "code",
   "execution_count": 24,
   "metadata": {},
   "outputs": [
    {
     "name": "stdout",
     "output_type": "stream",
     "text": [
      "The autoreload extension is already loaded. To reload it, use:\n",
      "  %reload_ext autoreload\n"
     ]
    }
   ],
   "source": [
    "model_dir = 'sample_code_submission/'          \n",
    "problem_dir = 'ingestion_program/'  \n",
    "score_dir = 'scoring_program/'\n",
    "from sys import path; path.append(model_dir); path.append(problem_dir); path.append(score_dir); \n",
    "%matplotlib inline\n",
    "%load_ext autoreload\n",
    "%autoreload 2\n",
    "import seaborn as sns; sns.set()"
   ]
  },
  {
   "cell_type": "markdown",
   "metadata": {},
   "source": [
    "# Step 1: Exploratory data analysis\n",
    "We provide sample_data with the starting kit, but to prepare your submission, you must fetch the public_data from the challenge website and point to it."
   ]
  },
  {
   "cell_type": "code",
   "execution_count": 25,
   "metadata": {
    "collapsed": true
   },
   "outputs": [],
   "source": [
    "datadir = 'sample_data'              # Change this to the directory where you put the input data\n",
    "dataname = 'credit'\n",
    "#!ls $datadir*"
   ]
  },
  {
   "cell_type": "markdown",
   "metadata": {},
   "source": [
    "For convenience, we load the data as a \"pandas\" data frame, so we can use \"pandas\" and \"seaborn\" built in functions to explore the data."
   ]
  },
  {
   "cell_type": "code",
   "execution_count": 26,
   "metadata": {
    "scrolled": true
   },
   "outputs": [
    {
     "name": "stdout",
     "output_type": "stream",
     "text": [
      "Reading sample_data/credit_train from AutoML format\n",
      "Number of examples = 35\n",
      "Number of features = 56\n",
      "Number of labels = 1\n"
     ]
    }
   ],
   "source": [
    "from data_io import read_as_df\n",
    "data = read_as_df(datadir  + '/' + dataname)                # The data are loaded as a Pandas Data Frame"
   ]
  },
  {
   "cell_type": "code",
   "execution_count": 5,
   "metadata": {
    "scrolled": true
   },
   "outputs": [
    {
     "data": {
      "text/html": [
       "<div>\n",
       "<style>\n",
       "    .dataframe thead tr:only-child th {\n",
       "        text-align: right;\n",
       "    }\n",
       "\n",
       "    .dataframe thead th {\n",
       "        text-align: left;\n",
       "    }\n",
       "\n",
       "    .dataframe tbody tr th {\n",
       "        vertical-align: top;\n",
       "    }\n",
       "</style>\n",
       "<table border=\"1\" class=\"dataframe\">\n",
       "  <thead>\n",
       "    <tr style=\"text-align: right;\">\n",
       "      <th></th>\n",
       "      <th>X_0</th>\n",
       "      <th>X_1</th>\n",
       "      <th>X_2</th>\n",
       "      <th>X_3</th>\n",
       "      <th>X_4</th>\n",
       "      <th>X_5</th>\n",
       "      <th>X_6</th>\n",
       "      <th>X_7</th>\n",
       "      <th>X_8</th>\n",
       "      <th>X_9</th>\n",
       "      <th>...</th>\n",
       "      <th>X_47</th>\n",
       "      <th>X_48</th>\n",
       "      <th>X_49</th>\n",
       "      <th>X_50</th>\n",
       "      <th>X_51</th>\n",
       "      <th>X_52</th>\n",
       "      <th>X_53</th>\n",
       "      <th>X_54</th>\n",
       "      <th>X_55</th>\n",
       "      <th>granted</th>\n",
       "    </tr>\n",
       "  </thead>\n",
       "  <tbody>\n",
       "    <tr>\n",
       "      <th>0</th>\n",
       "      <td>1.0</td>\n",
       "      <td>-0.020273</td>\n",
       "      <td>-0.900039</td>\n",
       "      <td>-0.100419</td>\n",
       "      <td>-0.172923</td>\n",
       "      <td>-0.032463</td>\n",
       "      <td>0.300672</td>\n",
       "      <td>-0.063793</td>\n",
       "      <td>-0.016145</td>\n",
       "      <td>-0.057852</td>\n",
       "      <td>...</td>\n",
       "      <td>-0.004854</td>\n",
       "      <td>-0.017395</td>\n",
       "      <td>-0.200286</td>\n",
       "      <td>0.001030</td>\n",
       "      <td>0.003691</td>\n",
       "      <td>0.042494</td>\n",
       "      <td>0.000934</td>\n",
       "      <td>0.010755</td>\n",
       "      <td>0.038537</td>\n",
       "      <td>1.0</td>\n",
       "    </tr>\n",
       "    <tr>\n",
       "      <th>1</th>\n",
       "      <td>1.0</td>\n",
       "      <td>-0.022042</td>\n",
       "      <td>2.281696</td>\n",
       "      <td>-0.100419</td>\n",
       "      <td>-0.172985</td>\n",
       "      <td>-0.015085</td>\n",
       "      <td>1.272313</td>\n",
       "      <td>-0.063793</td>\n",
       "      <td>0.868993</td>\n",
       "      <td>-0.057852</td>\n",
       "      <td>...</td>\n",
       "      <td>1.105632</td>\n",
       "      <td>-0.073606</td>\n",
       "      <td>-0.847521</td>\n",
       "      <td>-0.055436</td>\n",
       "      <td>0.003691</td>\n",
       "      <td>0.042494</td>\n",
       "      <td>-0.050273</td>\n",
       "      <td>-0.578859</td>\n",
       "      <td>0.038537</td>\n",
       "      <td>0.0</td>\n",
       "    </tr>\n",
       "    <tr>\n",
       "      <th>2</th>\n",
       "      <td>1.0</td>\n",
       "      <td>-0.022805</td>\n",
       "      <td>-0.426163</td>\n",
       "      <td>-0.100419</td>\n",
       "      <td>-0.173137</td>\n",
       "      <td>0.455111</td>\n",
       "      <td>0.689329</td>\n",
       "      <td>-0.063793</td>\n",
       "      <td>-0.016145</td>\n",
       "      <td>-0.057852</td>\n",
       "      <td>...</td>\n",
       "      <td>-0.011129</td>\n",
       "      <td>-0.039879</td>\n",
       "      <td>-0.459180</td>\n",
       "      <td>0.001030</td>\n",
       "      <td>0.003691</td>\n",
       "      <td>0.042494</td>\n",
       "      <td>0.000934</td>\n",
       "      <td>0.010755</td>\n",
       "      <td>0.038537</td>\n",
       "      <td>0.0</td>\n",
       "    </tr>\n",
       "    <tr>\n",
       "      <th>3</th>\n",
       "      <td>1.0</td>\n",
       "      <td>-0.021422</td>\n",
       "      <td>-0.358467</td>\n",
       "      <td>-0.100419</td>\n",
       "      <td>-0.173024</td>\n",
       "      <td>0.008653</td>\n",
       "      <td>0.106344</td>\n",
       "      <td>-0.063793</td>\n",
       "      <td>1.754131</td>\n",
       "      <td>-0.057852</td>\n",
       "      <td>...</td>\n",
       "      <td>0.186542</td>\n",
       "      <td>-0.006152</td>\n",
       "      <td>0.025225</td>\n",
       "      <td>-0.111902</td>\n",
       "      <td>0.003691</td>\n",
       "      <td>-0.015132</td>\n",
       "      <td>-0.101481</td>\n",
       "      <td>0.416083</td>\n",
       "      <td>-0.013723</td>\n",
       "      <td>0.0</td>\n",
       "    </tr>\n",
       "    <tr>\n",
       "      <th>4</th>\n",
       "      <td>1.0</td>\n",
       "      <td>-0.024218</td>\n",
       "      <td>0.453891</td>\n",
       "      <td>0.138087</td>\n",
       "      <td>-0.173118</td>\n",
       "      <td>-0.082422</td>\n",
       "      <td>0.495001</td>\n",
       "      <td>-0.063793</td>\n",
       "      <td>-0.016145</td>\n",
       "      <td>-0.057852</td>\n",
       "      <td>...</td>\n",
       "      <td>-0.007992</td>\n",
       "      <td>-0.028637</td>\n",
       "      <td>-0.329733</td>\n",
       "      <td>0.001030</td>\n",
       "      <td>0.003691</td>\n",
       "      <td>0.042494</td>\n",
       "      <td>0.000934</td>\n",
       "      <td>0.010755</td>\n",
       "      <td>0.038537</td>\n",
       "      <td>0.0</td>\n",
       "    </tr>\n",
       "  </tbody>\n",
       "</table>\n",
       "<p>5 rows × 57 columns</p>\n",
       "</div>"
      ],
      "text/plain": [
       "   X_0       X_1       X_2       X_3       X_4       X_5       X_6       X_7  \\\n",
       "0  1.0 -0.020273 -0.900039 -0.100419 -0.172923 -0.032463  0.300672 -0.063793   \n",
       "1  1.0 -0.022042  2.281696 -0.100419 -0.172985 -0.015085  1.272313 -0.063793   \n",
       "2  1.0 -0.022805 -0.426163 -0.100419 -0.173137  0.455111  0.689329 -0.063793   \n",
       "3  1.0 -0.021422 -0.358467 -0.100419 -0.173024  0.008653  0.106344 -0.063793   \n",
       "4  1.0 -0.024218  0.453891  0.138087 -0.173118 -0.082422  0.495001 -0.063793   \n",
       "\n",
       "        X_8       X_9   ...         X_47      X_48      X_49      X_50  \\\n",
       "0 -0.016145 -0.057852   ...    -0.004854 -0.017395 -0.200286  0.001030   \n",
       "1  0.868993 -0.057852   ...     1.105632 -0.073606 -0.847521 -0.055436   \n",
       "2 -0.016145 -0.057852   ...    -0.011129 -0.039879 -0.459180  0.001030   \n",
       "3  1.754131 -0.057852   ...     0.186542 -0.006152  0.025225 -0.111902   \n",
       "4 -0.016145 -0.057852   ...    -0.007992 -0.028637 -0.329733  0.001030   \n",
       "\n",
       "       X_51      X_52      X_53      X_54      X_55  granted  \n",
       "0  0.003691  0.042494  0.000934  0.010755  0.038537      1.0  \n",
       "1  0.003691  0.042494 -0.050273 -0.578859  0.038537      0.0  \n",
       "2  0.003691  0.042494  0.000934  0.010755  0.038537      0.0  \n",
       "3  0.003691 -0.015132 -0.101481  0.416083 -0.013723      0.0  \n",
       "4  0.003691  0.042494  0.000934  0.010755  0.038537      0.0  \n",
       "\n",
       "[5 rows x 57 columns]"
      ]
     },
     "execution_count": 5,
     "metadata": {},
     "output_type": "execute_result"
    }
   ],
   "source": [
    "data.head()"
   ]
  },
  {
   "cell_type": "code",
   "execution_count": 6,
   "metadata": {
    "scrolled": false
   },
   "outputs": [
    {
     "data": {
      "text/html": [
       "<div>\n",
       "<style>\n",
       "    .dataframe thead tr:only-child th {\n",
       "        text-align: right;\n",
       "    }\n",
       "\n",
       "    .dataframe thead th {\n",
       "        text-align: left;\n",
       "    }\n",
       "\n",
       "    .dataframe tbody tr th {\n",
       "        vertical-align: top;\n",
       "    }\n",
       "</style>\n",
       "<table border=\"1\" class=\"dataframe\">\n",
       "  <thead>\n",
       "    <tr style=\"text-align: right;\">\n",
       "      <th></th>\n",
       "      <th>X_0</th>\n",
       "      <th>X_1</th>\n",
       "      <th>X_2</th>\n",
       "      <th>X_3</th>\n",
       "      <th>X_4</th>\n",
       "      <th>X_5</th>\n",
       "      <th>X_6</th>\n",
       "      <th>X_7</th>\n",
       "      <th>X_8</th>\n",
       "      <th>X_9</th>\n",
       "      <th>...</th>\n",
       "      <th>X_47</th>\n",
       "      <th>X_48</th>\n",
       "      <th>X_49</th>\n",
       "      <th>X_50</th>\n",
       "      <th>X_51</th>\n",
       "      <th>X_52</th>\n",
       "      <th>X_53</th>\n",
       "      <th>X_54</th>\n",
       "      <th>X_55</th>\n",
       "      <th>granted</th>\n",
       "    </tr>\n",
       "  </thead>\n",
       "  <tbody>\n",
       "    <tr>\n",
       "      <th>count</th>\n",
       "      <td>35.0</td>\n",
       "      <td>35.000000</td>\n",
       "      <td>35.000000</td>\n",
       "      <td>35.000000</td>\n",
       "      <td>35.000000</td>\n",
       "      <td>35.000000</td>\n",
       "      <td>35.000000</td>\n",
       "      <td>35.000000</td>\n",
       "      <td>35.000000</td>\n",
       "      <td>3.500000e+01</td>\n",
       "      <td>...</td>\n",
       "      <td>35.000000</td>\n",
       "      <td>35.000000</td>\n",
       "      <td>35.000000</td>\n",
       "      <td>35.000000</td>\n",
       "      <td>35.000000</td>\n",
       "      <td>35.000000</td>\n",
       "      <td>35.000000</td>\n",
       "      <td>35.000000</td>\n",
       "      <td>35.000000</td>\n",
       "      <td>35.000000</td>\n",
       "    </tr>\n",
       "    <tr>\n",
       "      <th>mean</th>\n",
       "      <td>1.0</td>\n",
       "      <td>-0.023126</td>\n",
       "      <td>0.194710</td>\n",
       "      <td>-0.045903</td>\n",
       "      <td>-0.125598</td>\n",
       "      <td>-0.021303</td>\n",
       "      <td>0.333986</td>\n",
       "      <td>-0.050088</td>\n",
       "      <td>0.059724</td>\n",
       "      <td>-5.785249e-02</td>\n",
       "      <td>...</td>\n",
       "      <td>0.675962</td>\n",
       "      <td>-0.019322</td>\n",
       "      <td>0.012974</td>\n",
       "      <td>-0.016163</td>\n",
       "      <td>0.002898</td>\n",
       "      <td>0.000435</td>\n",
       "      <td>-0.003455</td>\n",
       "      <td>-0.025273</td>\n",
       "      <td>0.008674</td>\n",
       "      <td>0.057143</td>\n",
       "    </tr>\n",
       "    <tr>\n",
       "      <th>std</th>\n",
       "      <td>0.0</td>\n",
       "      <td>0.001369</td>\n",
       "      <td>0.990652</td>\n",
       "      <td>0.153981</td>\n",
       "      <td>0.276256</td>\n",
       "      <td>0.274951</td>\n",
       "      <td>1.213108</td>\n",
       "      <td>0.081084</td>\n",
       "      <td>0.841674</td>\n",
       "      <td>1.408039e-17</td>\n",
       "      <td>...</td>\n",
       "      <td>1.459358</td>\n",
       "      <td>0.070181</td>\n",
       "      <td>0.681850</td>\n",
       "      <td>0.081636</td>\n",
       "      <td>0.004691</td>\n",
       "      <td>0.074024</td>\n",
       "      <td>0.048693</td>\n",
       "      <td>0.644729</td>\n",
       "      <td>0.051150</td>\n",
       "      <td>0.235504</td>\n",
       "    </tr>\n",
       "    <tr>\n",
       "      <th>min</th>\n",
       "      <td>1.0</td>\n",
       "      <td>-0.024218</td>\n",
       "      <td>-1.712396</td>\n",
       "      <td>-0.100419</td>\n",
       "      <td>-0.173228</td>\n",
       "      <td>-0.435865</td>\n",
       "      <td>-1.448281</td>\n",
       "      <td>-0.063793</td>\n",
       "      <td>-0.901283</td>\n",
       "      <td>-5.785249e-02</td>\n",
       "      <td>...</td>\n",
       "      <td>-0.446136</td>\n",
       "      <td>-0.275969</td>\n",
       "      <td>-2.012545</td>\n",
       "      <td>-0.374848</td>\n",
       "      <td>-0.024061</td>\n",
       "      <td>-0.277045</td>\n",
       "      <td>-0.101481</td>\n",
       "      <td>-2.656248</td>\n",
       "      <td>-0.170502</td>\n",
       "      <td>0.000000</td>\n",
       "    </tr>\n",
       "    <tr>\n",
       "      <th>25%</th>\n",
       "      <td>1.0</td>\n",
       "      <td>-0.024086</td>\n",
       "      <td>-0.426163</td>\n",
       "      <td>-0.100419</td>\n",
       "      <td>-0.173116</td>\n",
       "      <td>-0.184514</td>\n",
       "      <td>-0.379476</td>\n",
       "      <td>-0.063793</td>\n",
       "      <td>-0.901283</td>\n",
       "      <td>-5.785249e-02</td>\n",
       "      <td>...</td>\n",
       "      <td>-0.004854</td>\n",
       "      <td>-0.062364</td>\n",
       "      <td>-0.394456</td>\n",
       "      <td>-0.055436</td>\n",
       "      <td>0.003691</td>\n",
       "      <td>-0.015132</td>\n",
       "      <td>-0.050273</td>\n",
       "      <td>-0.123392</td>\n",
       "      <td>-0.013723</td>\n",
       "      <td>0.000000</td>\n",
       "    </tr>\n",
       "    <tr>\n",
       "      <th>50%</th>\n",
       "      <td>1.0</td>\n",
       "      <td>-0.023757</td>\n",
       "      <td>0.250801</td>\n",
       "      <td>-0.100419</td>\n",
       "      <td>-0.173066</td>\n",
       "      <td>-0.079009</td>\n",
       "      <td>0.300672</td>\n",
       "      <td>-0.063793</td>\n",
       "      <td>-0.016145</td>\n",
       "      <td>-5.785249e-02</td>\n",
       "      <td>...</td>\n",
       "      <td>0.186542</td>\n",
       "      <td>-0.017395</td>\n",
       "      <td>0.071320</td>\n",
       "      <td>0.001030</td>\n",
       "      <td>0.003691</td>\n",
       "      <td>0.042494</td>\n",
       "      <td>0.000934</td>\n",
       "      <td>0.010755</td>\n",
       "      <td>0.038537</td>\n",
       "      <td>0.000000</td>\n",
       "    </tr>\n",
       "    <tr>\n",
       "      <th>75%</th>\n",
       "      <td>1.0</td>\n",
       "      <td>-0.022671</td>\n",
       "      <td>0.826222</td>\n",
       "      <td>-0.100419</td>\n",
       "      <td>-0.172981</td>\n",
       "      <td>0.114934</td>\n",
       "      <td>1.077985</td>\n",
       "      <td>-0.063793</td>\n",
       "      <td>0.868993</td>\n",
       "      <td>-5.785249e-02</td>\n",
       "      <td>...</td>\n",
       "      <td>0.945892</td>\n",
       "      <td>0.021954</td>\n",
       "      <td>0.446950</td>\n",
       "      <td>0.057496</td>\n",
       "      <td>0.003691</td>\n",
       "      <td>0.042494</td>\n",
       "      <td>0.052141</td>\n",
       "      <td>0.508226</td>\n",
       "      <td>0.038537</td>\n",
       "      <td>0.000000</td>\n",
       "    </tr>\n",
       "    <tr>\n",
       "      <th>max</th>\n",
       "      <td>1.0</td>\n",
       "      <td>-0.019955</td>\n",
       "      <td>2.349392</td>\n",
       "      <td>0.615099</td>\n",
       "      <td>1.461860</td>\n",
       "      <td>0.898466</td>\n",
       "      <td>4.770221</td>\n",
       "      <td>0.415905</td>\n",
       "      <td>1.754131</td>\n",
       "      <td>-5.785249e-02</td>\n",
       "      <td>...</td>\n",
       "      <td>8.367593</td>\n",
       "      <td>0.083787</td>\n",
       "      <td>1.131505</td>\n",
       "      <td>0.057496</td>\n",
       "      <td>0.003691</td>\n",
       "      <td>0.042494</td>\n",
       "      <td>0.052141</td>\n",
       "      <td>0.600368</td>\n",
       "      <td>0.038537</td>\n",
       "      <td>1.000000</td>\n",
       "    </tr>\n",
       "  </tbody>\n",
       "</table>\n",
       "<p>8 rows × 57 columns</p>\n",
       "</div>"
      ],
      "text/plain": [
       "        X_0        X_1        X_2        X_3        X_4        X_5        X_6  \\\n",
       "count  35.0  35.000000  35.000000  35.000000  35.000000  35.000000  35.000000   \n",
       "mean    1.0  -0.023126   0.194710  -0.045903  -0.125598  -0.021303   0.333986   \n",
       "std     0.0   0.001369   0.990652   0.153981   0.276256   0.274951   1.213108   \n",
       "min     1.0  -0.024218  -1.712396  -0.100419  -0.173228  -0.435865  -1.448281   \n",
       "25%     1.0  -0.024086  -0.426163  -0.100419  -0.173116  -0.184514  -0.379476   \n",
       "50%     1.0  -0.023757   0.250801  -0.100419  -0.173066  -0.079009   0.300672   \n",
       "75%     1.0  -0.022671   0.826222  -0.100419  -0.172981   0.114934   1.077985   \n",
       "max     1.0  -0.019955   2.349392   0.615099   1.461860   0.898466   4.770221   \n",
       "\n",
       "             X_7        X_8           X_9    ...           X_47       X_48  \\\n",
       "count  35.000000  35.000000  3.500000e+01    ...      35.000000  35.000000   \n",
       "mean   -0.050088   0.059724 -5.785249e-02    ...       0.675962  -0.019322   \n",
       "std     0.081084   0.841674  1.408039e-17    ...       1.459358   0.070181   \n",
       "min    -0.063793  -0.901283 -5.785249e-02    ...      -0.446136  -0.275969   \n",
       "25%    -0.063793  -0.901283 -5.785249e-02    ...      -0.004854  -0.062364   \n",
       "50%    -0.063793  -0.016145 -5.785249e-02    ...       0.186542  -0.017395   \n",
       "75%    -0.063793   0.868993 -5.785249e-02    ...       0.945892   0.021954   \n",
       "max     0.415905   1.754131 -5.785249e-02    ...       8.367593   0.083787   \n",
       "\n",
       "            X_49       X_50       X_51       X_52       X_53       X_54  \\\n",
       "count  35.000000  35.000000  35.000000  35.000000  35.000000  35.000000   \n",
       "mean    0.012974  -0.016163   0.002898   0.000435  -0.003455  -0.025273   \n",
       "std     0.681850   0.081636   0.004691   0.074024   0.048693   0.644729   \n",
       "min    -2.012545  -0.374848  -0.024061  -0.277045  -0.101481  -2.656248   \n",
       "25%    -0.394456  -0.055436   0.003691  -0.015132  -0.050273  -0.123392   \n",
       "50%     0.071320   0.001030   0.003691   0.042494   0.000934   0.010755   \n",
       "75%     0.446950   0.057496   0.003691   0.042494   0.052141   0.508226   \n",
       "max     1.131505   0.057496   0.003691   0.042494   0.052141   0.600368   \n",
       "\n",
       "            X_55    granted  \n",
       "count  35.000000  35.000000  \n",
       "mean    0.008674   0.057143  \n",
       "std     0.051150   0.235504  \n",
       "min    -0.170502   0.000000  \n",
       "25%    -0.013723   0.000000  \n",
       "50%     0.038537   0.000000  \n",
       "75%     0.038537   0.000000  \n",
       "max     0.038537   1.000000  \n",
       "\n",
       "[8 rows x 57 columns]"
      ]
     },
     "execution_count": 6,
     "metadata": {},
     "output_type": "execute_result"
    }
   ],
   "source": [
    "data.describe() "
   ]
  },
  {
   "cell_type": "code",
   "execution_count": 9,
   "metadata": {
    "scrolled": true
   },
   "outputs": [
    {
     "data": {
      "image/png": "[encoded data removed]",
      "text/plain": [
       "<matplotlib.figure.Figure at 0x1ffa2f28>"
      ]
     },
     "metadata": {},
     "output_type": "display_data"
    }
   ],
   "source": [
    "data.hist(figsize=(30, 30), bins=50, layout=(30, 3));"
   ]
  },
  {
   "cell_type": "code",
   "execution_count": null,
   "metadata": {
    "collapsed": true
   },
   "outputs": [
    {
     "ename": "KeyboardInterrupt",
     "evalue": "",
     "output_type": "error",
     "traceback": [
      "\u001b[1;31m---------------------------------------------------------------------------\u001b[0m",
      "\u001b[1;31mKeyboardInterrupt\u001b[0m                         Traceback (most recent call last)",
      "\u001b[1;32m<ipython-input-10-1da8557d54c5>\u001b[0m in \u001b[0;36m<module>\u001b[1;34m()\u001b[0m\n\u001b[1;32m----> 1\u001b[1;33m \u001b[0msns\u001b[0m\u001b[1;33m.\u001b[0m\u001b[0mpairplot\u001b[0m\u001b[1;33m(\u001b[0m\u001b[0mdata\u001b[0m\u001b[1;33m,\u001b[0m \u001b[0mhue\u001b[0m\u001b[1;33m=\u001b[0m\u001b[1;34m\"granted\"\u001b[0m\u001b[1;33m)\u001b[0m\u001b[1;33m\u001b[0m\u001b[0m\n\u001b[0m",
      "\u001b[1;32mC:\\Users\\Karim\\Anaconda2\\lib\\site-packages\\seaborn\\linearmodels.pyc\u001b[0m in \u001b[0;36mpairplot\u001b[1;34m(data, hue, hue_order, palette, vars, x_vars, y_vars, kind, diag_kind, markers, size, aspect, dropna, plot_kws, diag_kws, grid_kws)\u001b[0m\n\u001b[0;32m   1588\u001b[0m                     \u001b[0mhue_order\u001b[0m\u001b[1;33m=\u001b[0m\u001b[0mhue_order\u001b[0m\u001b[1;33m,\u001b[0m \u001b[0mpalette\u001b[0m\u001b[1;33m=\u001b[0m\u001b[0mpalette\u001b[0m\u001b[1;33m,\u001b[0m\u001b[1;33m\u001b[0m\u001b[0m\n\u001b[0;32m   1589\u001b[0m                     \u001b[0mdiag_sharey\u001b[0m\u001b[1;33m=\u001b[0m\u001b[0mdiag_sharey\u001b[0m\u001b[1;33m,\u001b[0m\u001b[1;33m\u001b[0m\u001b[0m\n\u001b[1;32m-> 1590\u001b[1;33m                     size=size, aspect=aspect, dropna=dropna, **grid_kws)\n\u001b[0m\u001b[0;32m   1591\u001b[0m \u001b[1;33m\u001b[0m\u001b[0m\n\u001b[0;32m   1592\u001b[0m     \u001b[1;31m# Add the markers here as PairGrid has figured out how many levels of the\u001b[0m\u001b[1;33m\u001b[0m\u001b[1;33m\u001b[0m\u001b[0m\n",
      "\u001b[1;32mC:\\Users\\Karim\\Anaconda2\\lib\\site-packages\\seaborn\\axisgrid.pyc\u001b[0m in \u001b[0;36m__init__\u001b[1;34m(self, data, hue, hue_order, palette, hue_kws, vars, x_vars, y_vars, diag_sharey, size, aspect, despine, dropna)\u001b[0m\n\u001b[0;32m   1217\u001b[0m                                  \u001b[0mfigsize\u001b[0m\u001b[1;33m=\u001b[0m\u001b[0mfigsize\u001b[0m\u001b[1;33m,\u001b[0m\u001b[1;33m\u001b[0m\u001b[0m\n\u001b[0;32m   1218\u001b[0m                                  \u001b[0msharex\u001b[0m\u001b[1;33m=\u001b[0m\u001b[1;34m\"col\"\u001b[0m\u001b[1;33m,\u001b[0m \u001b[0msharey\u001b[0m\u001b[1;33m=\u001b[0m\u001b[1;34m\"row\"\u001b[0m\u001b[1;33m,\u001b[0m\u001b[1;33m\u001b[0m\u001b[0m\n\u001b[1;32m-> 1219\u001b[1;33m                                  squeeze=False)\n\u001b[0m\u001b[0;32m   1220\u001b[0m \u001b[1;33m\u001b[0m\u001b[0m\n\u001b[0;32m   1221\u001b[0m         \u001b[0mself\u001b[0m\u001b[1;33m.\u001b[0m\u001b[0mfig\u001b[0m \u001b[1;33m=\u001b[0m \u001b[0mfig\u001b[0m\u001b[1;33m\u001b[0m\u001b[0m\n",
      "\u001b[1;32mC:\\Users\\Karim\\Anaconda2\\lib\\site-packages\\matplotlib\\pyplot.pyc\u001b[0m in \u001b[0;36msubplots\u001b[1;34m(nrows, ncols, sharex, sharey, squeeze, subplot_kw, gridspec_kw, **fig_kw)\u001b[0m\n\u001b[0;32m   1235\u001b[0m         \u001b[1;32melse\u001b[0m\u001b[1;33m:\u001b[0m\u001b[1;33m\u001b[0m\u001b[0m\n\u001b[0;32m   1236\u001b[0m             \u001b[0msubplot_kw\u001b[0m\u001b[1;33m[\u001b[0m\u001b[1;34m'sharey'\u001b[0m\u001b[1;33m]\u001b[0m \u001b[1;33m=\u001b[0m \u001b[0maxarr\u001b[0m\u001b[1;33m[\u001b[0m\u001b[0msys\u001b[0m\u001b[1;33m[\u001b[0m\u001b[0mi\u001b[0m\u001b[1;33m]\u001b[0m\u001b[1;33m]\u001b[0m\u001b[1;33m\u001b[0m\u001b[0m\n\u001b[1;32m-> 1237\u001b[1;33m         \u001b[0maxarr\u001b[0m\u001b[1;33m[\u001b[0m\u001b[0mi\u001b[0m\u001b[1;33m]\u001b[0m \u001b[1;33m=\u001b[0m \u001b[0mfig\u001b[0m\u001b[1;33m.\u001b[0m\u001b[0madd_subplot\u001b[0m\u001b[1;33m(\u001b[0m\u001b[0mgs\u001b[0m\u001b[1;33m[\u001b[0m\u001b[0mi\u001b[0m \u001b[1;33m//\u001b[0m \u001b[0mncols\u001b[0m\u001b[1;33m,\u001b[0m \u001b[0mi\u001b[0m \u001b[1;33m%\u001b[0m \u001b[0mncols\u001b[0m\u001b[1;33m]\u001b[0m\u001b[1;33m,\u001b[0m \u001b[1;33m**\u001b[0m\u001b[0msubplot_kw\u001b[0m\u001b[1;33m)\u001b[0m\u001b[1;33m\u001b[0m\u001b[0m\n\u001b[0m\u001b[0;32m   1238\u001b[0m \u001b[1;33m\u001b[0m\u001b[0m\n\u001b[0;32m   1239\u001b[0m     \u001b[1;31m# returned axis array will be always 2-d, even if nrows=ncols=1\u001b[0m\u001b[1;33m\u001b[0m\u001b[1;33m\u001b[0m\u001b[0m\n",
      "\u001b[1;32mC:\\Users\\Karim\\Anaconda2\\lib\\site-packages\\matplotlib\\figure.pyc\u001b[0m in \u001b[0;36madd_subplot\u001b[1;34m(self, *args, **kwargs)\u001b[0m\n\u001b[0;32m   1022\u001b[0m \u001b[1;33m\u001b[0m\u001b[0m\n\u001b[0;32m   1023\u001b[0m         \u001b[0mself\u001b[0m\u001b[1;33m.\u001b[0m\u001b[0m_axstack\u001b[0m\u001b[1;33m.\u001b[0m\u001b[0madd\u001b[0m\u001b[1;33m(\u001b[0m\u001b[0mkey\u001b[0m\u001b[1;33m,\u001b[0m \u001b[0ma\u001b[0m\u001b[1;33m)\u001b[0m\u001b[1;33m\u001b[0m\u001b[0m\n\u001b[1;32m-> 1024\u001b[1;33m         \u001b[0mself\u001b[0m\u001b[1;33m.\u001b[0m\u001b[0msca\u001b[0m\u001b[1;33m(\u001b[0m\u001b[0ma\u001b[0m\u001b[1;33m)\u001b[0m\u001b[1;33m\u001b[0m\u001b[0m\n\u001b[0m\u001b[0;32m   1025\u001b[0m         \u001b[0ma\u001b[0m\u001b[1;33m.\u001b[0m\u001b[0m_remove_method\u001b[0m \u001b[1;33m=\u001b[0m \u001b[0mself\u001b[0m\u001b[1;33m.\u001b[0m\u001b[0m__remove_ax\u001b[0m\u001b[1;33m\u001b[0m\u001b[0m\n\u001b[0;32m   1026\u001b[0m         \u001b[0mself\u001b[0m\u001b[1;33m.\u001b[0m\u001b[0mstale\u001b[0m \u001b[1;33m=\u001b[0m \u001b[0mTrue\u001b[0m\u001b[1;33m\u001b[0m\u001b[0m\n",
      "\u001b[1;32mC:\\Users\\Karim\\Anaconda2\\lib\\site-packages\\matplotlib\\figure.pyc\u001b[0m in \u001b[0;36msca\u001b[1;34m(self, a)\u001b[0m\n\u001b[0;32m   1371\u001b[0m     \u001b[1;32mdef\u001b[0m \u001b[0msca\u001b[0m\u001b[1;33m(\u001b[0m\u001b[0mself\u001b[0m\u001b[1;33m,\u001b[0m \u001b[0ma\u001b[0m\u001b[1;33m)\u001b[0m\u001b[1;33m:\u001b[0m\u001b[1;33m\u001b[0m\u001b[0m\n\u001b[0;32m   1372\u001b[0m         \u001b[1;34m'Set the current axes to be a and return a'\u001b[0m\u001b[1;33m\u001b[0m\u001b[0m\n\u001b[1;32m-> 1373\u001b[1;33m         \u001b[0mself\u001b[0m\u001b[1;33m.\u001b[0m\u001b[0m_axstack\u001b[0m\u001b[1;33m.\u001b[0m\u001b[0mbubble\u001b[0m\u001b[1;33m(\u001b[0m\u001b[0ma\u001b[0m\u001b[1;33m)\u001b[0m\u001b[1;33m\u001b[0m\u001b[0m\n\u001b[0m\u001b[0;32m   1374\u001b[0m         \u001b[1;32mfor\u001b[0m \u001b[0mfunc\u001b[0m \u001b[1;32min\u001b[0m \u001b[0mself\u001b[0m\u001b[1;33m.\u001b[0m\u001b[0m_axobservers\u001b[0m\u001b[1;33m:\u001b[0m\u001b[1;33m\u001b[0m\u001b[0m\n\u001b[0;32m   1375\u001b[0m             \u001b[0mfunc\u001b[0m\u001b[1;33m(\u001b[0m\u001b[0mself\u001b[0m\u001b[1;33m)\u001b[0m\u001b[1;33m\u001b[0m\u001b[0m\n",
      "\u001b[1;32mC:\\Users\\Karim\\Anaconda2\\lib\\site-packages\\matplotlib\\figure.pyc\u001b[0m in \u001b[0;36mbubble\u001b[1;34m(self, a)\u001b[0m\n\u001b[0;32m    107\u001b[0m         \u001b[0mstack\u001b[0m\u001b[1;33m,\u001b[0m \u001b[0mto\u001b[0m \u001b[0mthe\u001b[0m \u001b[0mtop\u001b[0m\u001b[1;33m.\u001b[0m\u001b[1;33m\u001b[0m\u001b[0m\n\u001b[0;32m    108\u001b[0m         \"\"\"\n\u001b[1;32m--> 109\u001b[1;33m         \u001b[1;32mreturn\u001b[0m \u001b[0mStack\u001b[0m\u001b[1;33m.\u001b[0m\u001b[0mbubble\u001b[0m\u001b[1;33m(\u001b[0m\u001b[0mself\u001b[0m\u001b[1;33m,\u001b[0m \u001b[0mself\u001b[0m\u001b[1;33m.\u001b[0m\u001b[0m_entry_from_axes\u001b[0m\u001b[1;33m(\u001b[0m\u001b[0ma\u001b[0m\u001b[1;33m)\u001b[0m\u001b[1;33m)\u001b[0m\u001b[1;33m\u001b[0m\u001b[0m\n\u001b[0m\u001b[0;32m    110\u001b[0m \u001b[1;33m\u001b[0m\u001b[0m\n\u001b[0;32m    111\u001b[0m     \u001b[1;32mdef\u001b[0m \u001b[0madd\u001b[0m\u001b[1;33m(\u001b[0m\u001b[0mself\u001b[0m\u001b[1;33m,\u001b[0m \u001b[0mkey\u001b[0m\u001b[1;33m,\u001b[0m \u001b[0ma\u001b[0m\u001b[1;33m)\u001b[0m\u001b[1;33m:\u001b[0m\u001b[1;33m\u001b[0m\u001b[0m\n",
      "\u001b[1;32mC:\\Users\\Karim\\Anaconda2\\lib\\site-packages\\matplotlib\\cbook.pyc\u001b[0m in \u001b[0;36mbubble\u001b[1;34m(self, o)\u001b[0m\n\u001b[0;32m   1383\u001b[0m         \u001b[0mbubbles\u001b[0m \u001b[1;33m=\u001b[0m \u001b[1;33m[\u001b[0m\u001b[1;33m]\u001b[0m\u001b[1;33m\u001b[0m\u001b[0m\n\u001b[0;32m   1384\u001b[0m         \u001b[1;32mfor\u001b[0m \u001b[0mthiso\u001b[0m \u001b[1;32min\u001b[0m \u001b[0mold\u001b[0m\u001b[1;33m:\u001b[0m\u001b[1;33m\u001b[0m\u001b[0m\n\u001b[1;32m-> 1385\u001b[1;33m             \u001b[1;32mif\u001b[0m \u001b[0mthiso\u001b[0m \u001b[1;33m==\u001b[0m \u001b[0mo\u001b[0m\u001b[1;33m:\u001b[0m\u001b[1;33m\u001b[0m\u001b[0m\n\u001b[0m\u001b[0;32m   1386\u001b[0m                 \u001b[0mbubbles\u001b[0m\u001b[1;33m.\u001b[0m\u001b[0mappend\u001b[0m\u001b[1;33m(\u001b[0m\u001b[0mthiso\u001b[0m\u001b[1;33m)\u001b[0m\u001b[1;33m\u001b[0m\u001b[0m\n\u001b[0;32m   1387\u001b[0m             \u001b[1;32melse\u001b[0m\u001b[1;33m:\u001b[0m\u001b[1;33m\u001b[0m\u001b[0m\n",
      "\u001b[1;32mC:\\Users\\Karim\\Anaconda2\\lib\\site-packages\\matplotlib\\gridspec.pyc\u001b[0m in \u001b[0;36m__eq__\u001b[1;34m(self, other)\u001b[0m\n\u001b[0;32m    470\u001b[0m         \u001b[1;31m# check to make sure other has the attributes\u001b[0m\u001b[1;33m\u001b[0m\u001b[1;33m\u001b[0m\u001b[0m\n\u001b[0;32m    471\u001b[0m         \u001b[1;31m# we need to do the comparison\u001b[0m\u001b[1;33m\u001b[0m\u001b[1;33m\u001b[0m\u001b[0m\n\u001b[1;32m--> 472\u001b[1;33m         if not (hasattr(other, '_gridspec') and\n\u001b[0m\u001b[0;32m    473\u001b[0m                 \u001b[0mhasattr\u001b[0m\u001b[1;33m(\u001b[0m\u001b[0mother\u001b[0m\u001b[1;33m,\u001b[0m \u001b[1;34m'num1'\u001b[0m\u001b[1;33m)\u001b[0m \u001b[1;32mand\u001b[0m\u001b[1;33m\u001b[0m\u001b[0m\n\u001b[0;32m    474\u001b[0m                 hasattr(other, 'num2')):\n",
      "\u001b[1;31mKeyboardInterrupt\u001b[0m: "
     ]
    }
   ],
   "source": [
    "sns.pairplot(data, hue=\"granted\")"
   ]
  },
  {
   "cell_type": "markdown",
   "metadata": {},
   "source": [
    "# Step 2: Building a predictive model"
   ]
  },
  {
   "cell_type": "markdown",
   "metadata": {},
   "source": [
    "## Loading data with DataManager\n",
    "We reload the data with the AutoML DataManager class because this is more convenient:"
   ]
  },
  {
   "cell_type": "code",
   "execution_count": 27,
   "metadata": {
    "scrolled": true
   },
   "outputs": [
    {
     "name": "stdout",
     "output_type": "stream",
     "text": [
      "Info file found : C:\\Users\\Karim\\Git\\credit\\starting_kit\\sample_data\\credit_public.info\n",
      "DataManager : credit\n",
      "info:\n",
      "\ttask = binary.classification\n",
      "\tname = credit\n",
      "\tfeat_type = Numerical\n",
      "\tformat = dense\n",
      "\tis_sparse = 0\n",
      "\tmetric = auc_binary\n",
      "\ttarget_type = Numerical\n",
      "\ttest_num = 35\n",
      "\tlabel_num = 1\n",
      "\ttarget_num = 1\n",
      "\tvalid_num = 35\n",
      "\thas_categorical = 0\n",
      "\tusage = Give me some credit dataset\n",
      "\tfeat_num = 56\n",
      "\ttime_budget = 1200\n",
      "\ttrain_num = 35\n",
      "\thas_missing = 0\n",
      "data:\n",
      "\tX_train = array(35L, 56L)\n",
      "\tY_train = array(35L,)\n",
      "\tX_valid = array(35L, 56L)\n",
      "\tX_test = array(35L, 56L)\n",
      "feat_type:\tarray(56L,)\n",
      "feat_idx:\tarray(0L,)\n",
      "\n"
     ]
    }
   ],
   "source": [
    "from data_manager import DataManager\n",
    "D = DataManager(dataname, datadir, replace_missing=True)\n",
    "print D"
   ]
  },
  {
   "cell_type": "markdown",
   "metadata": {},
   "source": [
    "## Training a predictive model\n",
    "We provide an example of predictive model (for classification or regression) in the `sample_code_submission/` directory. It is a quite stupid model: it makes constant predictions. Replace it with your own model."
   ]
  },
  {
   "cell_type": "code",
   "execution_count": 28,
   "metadata": {
    "collapsed": true
   },
   "outputs": [],
   "source": [
    "from model import model\n",
    "#??model "
   ]
  },
  {
   "cell_type": "markdown",
   "metadata": {},
   "source": [
    "Create an instance of the model (run the constructor) and attempt to reload a previously saved version from `sample_code_submission/`:"
   ]
  },
  {
   "cell_type": "code",
   "execution_count": 29,
   "metadata": {
    "collapsed": true
   },
   "outputs": [],
   "source": [
    "M = model()\n",
    "\n",
    "reload_model=0                       # Change to 1 to reload an already trained model\n",
    "\n",
    "trained_model_name = model_dir + dataname\n",
    "if reload_model:    \n",
    "    M = M.load(trained_model_name)                  # Attempts to re-load an already trained model"
   ]
  },
  {
   "cell_type": "markdown",
   "metadata": {},
   "source": [
    "Train and run your predictive model. If you saved have an aldeady trained model saved in sample_code_submission, the evaluation script will reload it and not retrain, just test. This will happen the second time you run the code because when the model is trained it gets saved. So delete iris_model.pickle from sample_code_submission if you do not want this to happen."
   ]
  },
  {
   "cell_type": "code",
   "execution_count": 30,
   "metadata": {
    "scrolled": true
   },
   "outputs": [
    {
     "name": "stdout",
     "output_type": "stream",
     "text": [
      "FIT: dim(X)= [35, 56]\n",
      "FIT: dim(y)= [35, 1]\n",
      "PREDICT: dim(X)= [35, 56]\n",
      "PREDICT: dim(y)= [35, 1]\n",
      "PREDICT: dim(X)= [35, 56]\n",
      "PREDICT: dim(y)= [35, 1]\n",
      "PREDICT: dim(X)= [35, 56]\n",
      "PREDICT: dim(y)= [35, 1]\n"
     ]
    }
   ],
   "source": [
    "if not(M.is_trained):\n",
    "    X_train = D.data['X_train']\n",
    "    Y_train = D.data['Y_train']\n",
    "    M.fit(X_train, Y_train)                     \n",
    "\n",
    "Y_hat_train = M.predict(D.data['X_train']) # Optional, not really needed to test on taining examples\n",
    "Y_hat_valid = M.predict(D.data['X_valid'])\n",
    "Y_hat_test = M.predict(D.data['X_test'])"
   ]
  },
  {
   "cell_type": "markdown",
   "metadata": {},
   "source": [
    "Save the trained model (will be ready to reload next time around) and save the prediction results:"
   ]
  },
  {
   "cell_type": "code",
   "execution_count": 31,
   "metadata": {
    "collapsed": true
   },
   "outputs": [],
   "source": [
    "M.save(trained_model_name)                 \n",
    "result_name = 'sample_result_submission/' + dataname\n",
    "from data_io import write\n",
    "write(result_name + '_valid.predict', Y_hat_valid)\n",
    "write(result_name + '_test.predict', Y_hat_test)\n",
    "#!ls $result_name*"
   ]
  },
  {
   "cell_type": "markdown",
   "metadata": {},
   "source": [
    "## Scoring the results\n",
    "### Load the challenge metric\n",
    "<b>The metric chosen for your challenge</b> is identified in the \"metric.txt\" file found in the `scoring_function/` directory. We use here the `mse_metric` metric (an example of organizer-supplied metric found in `my_metric.py`), which computes the mean-square-error. You may change that in the \"metric.txt\" file to e.g. use `bac_multiclass`, one of the AutoML challenge metrics found in `libscores.py`, which is 2*(balanced_accuracy)-1."
   ]
  },
  {
   "cell_type": "code",
   "execution_count": 32,
   "metadata": {},
   "outputs": [
    {
     "name": "stdout",
     "output_type": "stream",
     "text": [
      "Using scoring metric: auc_metric_\n"
     ]
    }
   ],
   "source": [
    "with open(score_dir + '/metric.txt', 'r') as f:\n",
    "    metric_name = f.readline().strip()\n",
    "import libscores, my_metric\n",
    "try:\n",
    "    scoring_function = getattr(libscores, metric_name)\n",
    "except:\n",
    "    scoring_function = getattr(my_metric, metric_name)\n",
    "print 'Using scoring metric:', metric_name\n",
    "#??scoring_function"
   ]
  },
  {
   "cell_type": "markdown",
   "metadata": {},
   "source": [
    "### Training performance\n",
    "The participants normally posess target values (labels) only for training examples (except for the sample data). We compute with the `example` metric the training score, which should be zero for perfect predictions."
   ]
  },
  {
   "cell_type": "code",
   "execution_count": 33,
   "metadata": {
    "scrolled": false
   },
   "outputs": [
    {
     "name": "stdout",
     "output_type": "stream",
     "text": [
      "Training score for the auc_metric_ metric = 1.0000\n",
      "Ideal score for the auc_metric_ metric = 1.0000\n"
     ]
    }
   ],
   "source": [
    "print 'Training score for the', metric_name, 'metric = %5.4f' % scoring_function(Y_train, Y_hat_train)\n",
    "print 'Ideal score for the', metric_name, 'metric = %5.4f' % scoring_function(Y_train, Y_train)"
   ]
  },
  {
   "cell_type": "markdown",
   "metadata": {},
   "source": [
    "Be careful: some metrics use one-hot encoding for multi-class classification problems, but other use class numbers. So you need to convert the target values and predicted values if you want to use those. This is the case of `scikit-learn` metrics."
   ]
  },
  {
   "cell_type": "code",
   "execution_count": 34,
   "metadata": {},
   "outputs": [
    {
     "name": "stdout",
     "output_type": "stream",
     "text": [
      "\tConverting to numeric vector\n",
      "\tConverting to numeric vector\n",
      "Training accuracy = 1.0000\n",
      "Confusion matrix [known in lines, predicted in columns]=\n",
      "[[25  0]\n",
      " [ 0 10]]\n"
     ]
    }
   ],
   "source": [
    "# Convert targets and predictions for vectors of class numbers:\n",
    "from data_converter import convert_to_num\n",
    "y_train = convert_to_num(Y_train)\n",
    "y_hat_train = convert_to_num(Y_hat_train)\n",
    "# Compute accuracy and confusion matrix:\n",
    "from sklearn.metrics import accuracy_score\n",
    "from sklearn.metrics import confusion_matrix\n",
    "#print 'y_train     =' , y_train\n",
    "#print 'y_hat_train =' , y_hat_train\n",
    "print 'Training accuracy = %5.4f' % accuracy_score(y_train, y_hat_train)\n",
    "print 'Confusion matrix [known in lines, predicted in columns]=\\n',confusion_matrix(y_train, y_hat_train)"
   ]
  },
  {
   "cell_type": "markdown",
   "metadata": {},
   "source": [
    "### Cross-validation performance\n",
    "The participants do not have access to the labels Y_valid and Y_test to self-assess their validation and test performances. But training performance is not a good prediction of validation or test performance. Using cross-validation, the training data is split into multiple training/test folds, which allows participants to self-assess their model during development."
   ]
  },
  {
   "cell_type": "code",
   "execution_count": 35,
   "metadata": {
    "scrolled": false
   },
   "outputs": [
    {
     "name": "stdout",
     "output_type": "stream",
     "text": [
      "FIT: dim(X)= [23, 56]\n",
      "FIT: dim(y)= [23, 1]\n",
      "PREDICT: dim(X)= [12, 56]\n",
      "PREDICT: dim(y)= [12, 1]\n",
      "('Fold', 1, 'example metric = ', 0.33333333333333326)\n",
      "FIT: dim(X)= [23, 56]\n",
      "FIT: dim(y)= [23, 1]\n",
      "PREDICT: dim(X)= [12, 56]\n",
      "PREDICT: dim(y)= [12, 1]\n",
      "('Fold', 2, 'example metric = ', 0.0)\n",
      "FIT: dim(X)= [24, 56]\n",
      "FIT: dim(y)= [24, 1]\n",
      "PREDICT: dim(X)= [11, 56]\n",
      "PREDICT: dim(y)= [11, 1]\n",
      "('Fold', 3, 'example metric = ', -0.59999999999999998)\n",
      "('Average score = ', -0.088888888888888906)\n"
     ]
    }
   ],
   "source": [
    "from sklearn.model_selection import KFold\n",
    "from numpy import zeros, mean\n",
    "# 3-fold cross-validation\n",
    "n = 3\n",
    "kf = KFold(n_splits=n)\n",
    "kf.get_n_splits(X_train)\n",
    "i=0\n",
    "scores = zeros(n)\n",
    "for train_index, test_index in kf.split(X_train):\n",
    "    Xtr, Xva = X_train[train_index], X_train[test_index]\n",
    "    Ytr, Yva = Y_train[train_index], Y_train[test_index]\n",
    "    M = model()\n",
    "    M.fit(Xtr, Ytr)\n",
    "    Yhat = M.predict(Xva)\n",
    "    scores[i] = scoring_function(Yva, Yhat)\n",
    "    print ('Fold', i+1, 'example metric = ', scores[i])\n",
    "    i=i+1\n",
    "print ('Average score = ', mean(scores))"
   ]
  },
  {
   "cell_type": "markdown",
   "metadata": {},
   "source": [
    "# Step 3: Making a submission\n",
    "\n",
    "## Unit testing\n",
    "\n",
    "It is <b><span style=\"color:red\">important that you test your submission files before submitting them</span></b>. All you have to do to make a submission is modify the file <code>model.py</code> in the <code>sample_code_submission/</code> directory, then run this test to make sure everything works fine. This is the actual program that will be run on the server to test your submission. "
   ]
  },
  {
   "cell_type": "code",
   "execution_count": 36,
   "metadata": {
    "collapsed": true,
    "scrolled": true
   },
   "outputs": [],
   "source": [
    "outdir = 'sample_result_submission'     "
   ]
  },
  {
   "cell_type": "code",
   "execution_count": 37,
   "metadata": {
    "scrolled": false
   },
   "outputs": [
    {
     "name": "stdout",
     "output_type": "stream",
     "text": [
      "Using input_dir: C:\\Users\\Karim\\Git\\credit\\starting_kit\\sample_data\n",
      "Using output_dir: C:\\Users\\Karim\\Git\\credit\\starting_kit\\sample_result_submission\n",
      "Using program_dir: C:\\Users\\Karim\\Git\\credit\\starting_kit\\ingestion_program\n",
      "Using submission_dir: C:\\Users\\Karim\\Git\\credit\\starting_kit\\sample_code_submission\n",
      "\n",
      "========== Ingestion program version 6 ==========\n",
      "\n",
      "************************************************\n",
      "******** Processing dataset Credit ********\n",
      "************************************************\n",
      "========= Reading and converting data ==========\n",
      "Info file found : C:\\Users\\Karim\\Git\\credit\\starting_kit\\sample_data\\credit_public.info\n",
      "========= Reading C:\\Users\\Karim\\Git\\credit\\starting_kit\\sample_data\\credit_feat.type\n",
      "[+] Success in  0.00 sec\n",
      "========= Reading C:\\Users\\Karim\\Git\\credit\\starting_kit\\sample_data\\credit_train.data\n",
      "[+] Success in  0.00 sec\n",
      "========= Reading C:\\Users\\Karim\\Git\\credit\\starting_kit\\sample_data\\credit_train.solution\n",
      "[+] Success in  0.00 sec\n",
      "========= Reading C:\\Users\\Karim\\Git\\credit\\starting_kit\\sample_data\\credit_valid.data\n",
      "[+] Success in  0.00 sec\n",
      "========= Reading C:\\Users\\Karim\\Git\\credit\\starting_kit\\sample_data\\credit_test.data\n",
      "[+] Success in  0.00 sec\n",
      "DataManager : credit\n",
      "info:\n",
      "\ttask = binary.classification\n",
      "\tname = credit\n",
      "\tfeat_type = Numerical\n",
      "\tformat = dense\n",
      "\tis_sparse = 0\n",
      "\tmetric = auc_binary\n",
      "\ttarget_type = Numerical\n",
      "\ttest_num = 35\n",
      "\tlabel_num = 1\n",
      "\ttarget_num = 1\n",
      "\tvalid_num = 35\n",
      "\thas_categorical = 0\n",
      "\tusage = Give me some credit dataset\n",
      "\tfeat_num = 56\n",
      "\ttime_budget = 1200\n",
      "\ttrain_num = 35\n",
      "\thas_missing = 0\n",
      "data:\n",
      "\tX_train = array(35L, 56L)\n",
      "\tY_train = array(35L,)\n",
      "\tX_valid = array(35L, 56L)\n",
      "\tX_test = array(35L, 56L)\n",
      "feat_type:\tarray(56L,)\n",
      "feat_idx:\tarray(56L,)\n",
      "\n",
      "[+] Size of uploaded data  64.00 bytes\n",
      "[+] Cumulated time budget (all tasks so far)  1200.00 sec\n",
      "[+] Time budget for this task 1200.00 sec\n",
      "[+] Remaining time after reading data 1200.00 sec\n",
      "======== Creating model ==========\n",
      "**********************************************************\n",
      "****** Attempting to reload model to avoid training ******\n",
      "**********************************************************\n",
      "Model reloaded from: C:\\Users\\Karim\\Git\\credit\\starting_kit\\sample_code_submission\\credit_model.pickle\n",
      "[+] Model reloaded, no need to train!\n",
      "PREDICT: dim(X)= [35, 56]\n",
      "PREDICT: dim(y)= [35, 1]\n",
      "PREDICT: dim(X)= [35, 56]\n",
      "PREDICT: dim(y)= [35, 1]\n",
      "PREDICT: dim(X)= [35, 56]\n",
      "PREDICT: dim(y)= [35, 1]\n",
      "[+] Prediction success, time spent so far  0.00 sec\n",
      "======== Saving results to: C:\\Users\\Karim\\Git\\credit\\starting_kit\\sample_result_submission\n",
      "[+] Results saved, time spent so far  0.02 sec\n",
      "[+] End cycle, time left 1199.98 sec\n",
      "[+] Done\n",
      "[+] Overall time spent  2.77 sec ::  Overall time budget 1200.00 sec\n"
     ]
    }
   ],
   "source": [
    "!python $problem_dir/ingestion.py $datadir $outdir $problem_dir $model_dir"
   ]
  },
  {
   "cell_type": "markdown",
   "metadata": {
    "collapsed": true
   },
   "source": [
    "## Preparing the submission\n",
    "\n",
    "Zip the contents of `sample_code_submission/` (without the directory), or download the challenge public_data and run the command in the previous cell, after replacing sample_data by public_data.\n",
    "Then zip the contents of `sample_result_submission/` (without the directory).\n",
    "<b><span style=\"color:red\">Do NOT zip the data with your submissions</span></b>."
   ]
  },
  {
   "cell_type": "code",
   "execution_count": null,
   "metadata": {
    "collapsed": true
   },
   "outputs": [],
   "source": []
  }
 ],
 "metadata": {
  "kernelspec": {
   "display_name": "Python 2",
   "language": "python",
   "name": "python2"
  },
  "language_info": {
   "codemirror_mode": {
    "name": "ipython",
    "version": 2
   },
   "file_extension": ".py",
   "mimetype": "text/x-python",
   "name": "python",
   "nbconvert_exporter": "python",
   "pygments_lexer": "ipython2",
   "version": "2.7.13"
  }
 },
 "nbformat": 4,
 "nbformat_minor": 1
}
